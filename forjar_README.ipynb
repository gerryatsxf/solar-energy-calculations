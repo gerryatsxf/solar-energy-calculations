{
 "cells": [
  {
   "cell_type": "markdown",
   "id": "9894a428-092f-4f74-a855-62d381c29d11",
   "metadata": {},
   "source": [
    "# Forjar README\n",
    "\n",
    "Esta libreta jupyter corre un script que realiza lo siguiente:\n",
    "\n",
    "- Exporta una lista de archivos .ipynb a archivos .md\n",
    "- Lee los archivos .md generados y forja todo su contenido en un archivo único README.md\n",
    "- Elimina los archivos .md generados"
   ]
  },
  {
   "cell_type": "code",
   "execution_count": 2,
   "id": "bb9f99f9-29bb-4aa2-a491-1b5f528c74cb",
   "metadata": {},
   "outputs": [
    {
     "name": "stdout",
     "output_type": "stream",
     "text": [
      "{'jupyter': '00_introduccion.ipynb', 'markdown': 'md_00_introduccion.md'}\n",
      "jupyter nbconvert 00_introduccion.ipynb --to markdown --output md_00_introduccion.md \n"
     ]
    },
    {
     "name": "stderr",
     "output_type": "stream",
     "text": [
      "[NbConvertApp] Converting notebook 00_introduccion.ipynb to markdown\n",
      "[NbConvertApp] Writing 332 bytes to md_00_introduccion.md\n"
     ]
    },
    {
     "name": "stdout",
     "output_type": "stream",
     "text": [
      "{'jupyter': '02_proyecciones_de_irradiancia.ipynb', 'markdown': 'md_02_proyecciones_de_irradiancia.md'}\n",
      "jupyter nbconvert 02_proyecciones_de_irradiancia.ipynb --to markdown --output md_02_proyecciones_de_irradiancia.md \n"
     ]
    },
    {
     "name": "stderr",
     "output_type": "stream",
     "text": [
      "[NbConvertApp] Converting notebook 02_proyecciones_de_irradiancia.ipynb to markdown\n",
      "[NbConvertApp] Support files will be in md_02_proyecciones_de_irradiancia_files/\n",
      "[NbConvertApp] Making directory md_02_proyecciones_de_irradiancia_files\n",
      "[NbConvertApp] Making directory md_02_proyecciones_de_irradiancia_files\n",
      "[NbConvertApp] Making directory md_02_proyecciones_de_irradiancia_files\n",
      "[NbConvertApp] Making directory md_02_proyecciones_de_irradiancia_files\n",
      "[NbConvertApp] Writing 9591 bytes to md_02_proyecciones_de_irradiancia.md\n"
     ]
    },
    {
     "name": "stdout",
     "output_type": "stream",
     "text": [
      "{'jupyter': '03_recurso_energetico_disponible.ipynb', 'markdown': 'md_03_recurso_energetico_disponible.md'}\n",
      "jupyter nbconvert 03_recurso_energetico_disponible.ipynb --to markdown --output md_03_recurso_energetico_disponible.md \n"
     ]
    },
    {
     "name": "stderr",
     "output_type": "stream",
     "text": [
      "[NbConvertApp] Converting notebook 03_recurso_energetico_disponible.ipynb to markdown\n",
      "[NbConvertApp] Support files will be in md_03_recurso_energetico_disponible_files/\n",
      "[NbConvertApp] Making directory md_03_recurso_energetico_disponible_files\n",
      "[NbConvertApp] Writing 5784 bytes to md_03_recurso_energetico_disponible.md\n"
     ]
    }
   ],
   "source": [
    "import os \n",
    "files = [\n",
    "    '00_introduccion.ipynb',\n",
    "    #'01_analisis_descriptivo.ipynb',\n",
    "    '02_proyecciones_de_irradiancia.ipynb',\n",
    "    '03_recurso_energetico_disponible.ipynb'\n",
    "]\n",
    "\n",
    "md_prefix = 'md_'\n",
    "\n",
    "def pipe_names():\n",
    "    docs = []\n",
    "    for file in files:\n",
    "        doc = {}\n",
    "        doc['jupyter'] = file\n",
    "        doc['markdown'] = md_prefix + file[:-6] + '.md'\n",
    "        docs.append(doc)\n",
    "    return docs\n",
    "        \n",
    "chapters = pipe_names()\n",
    "\n",
    "for ch in chapters:\n",
    "    print(ch)\n",
    "    cmd = 'jupyter nbconvert {jupyter} --to markdown --output {markdown} '.format(jupyter=ch['jupyter'],markdown=ch['markdown'])\n",
    "    print(cmd)\n",
    "    os.system(cmd)\n",
    "    \n",
    "index = ''\n",
    "for ch in chapters:\n",
    "    f = open(ch['markdown'],'r')\n",
    "    index = index + f.read()\n",
    "    f.close()\n",
    "    \n",
    "f = open(\"README.md\", \"a\")\n",
    "f.truncate(0)\n",
    "f.write(index)\n",
    "f.close()\n",
    "\n",
    "for ch in chapters:\n",
    "    os.remove(ch['markdown'])\n"
   ]
  },
  {
   "cell_type": "markdown",
   "source": [],
   "metadata": {
    "collapsed": false
   }
  }
 ],
 "metadata": {
  "kernelspec": {
   "display_name": "Python 3 (ipykernel)",
   "language": "python",
   "name": "python3"
  },
  "language_info": {
   "codemirror_mode": {
    "name": "ipython",
    "version": 3
   },
   "file_extension": ".py",
   "mimetype": "text/x-python",
   "name": "python",
   "nbconvert_exporter": "python",
   "pygments_lexer": "ipython3",
   "version": "3.10.8"
  }
 },
 "nbformat": 4,
 "nbformat_minor": 5
}
